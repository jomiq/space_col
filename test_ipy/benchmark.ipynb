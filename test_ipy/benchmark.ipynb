{
 "nbformat": 4,
 "nbformat_minor": 2,
 "metadata": {
  "language_info": {
   "name": "python",
   "codemirror_mode": {
    "name": "ipython",
    "version": 3
   },
   "version": "3.8.1-final"
  },
  "orig_nbformat": 2,
  "file_extension": ".py",
  "mimetype": "text/x-python",
  "name": "python",
  "npconvert_exporter": "python",
  "pygments_lexer": "ipython3",
  "version": 3,
  "kernelspec": {
   "name": "python3",
   "display_name": "Python 3"
  }
 },
 "cells": [
  {
   "source": [
    "import numpy as np\n",
    "from numpy.random import rand, randint\n",
    "from collections import namedtuple\n",
    "\n",
    "Test = namedtuple('Test', 'data indices name')\n",
    "\n",
    "def setup(N=2000, n=30, cores=4):\n",
    "    testdata = rand(N,3)\n",
    "    indices = [randint(low=0, high=N, size=n) for _ in range(cores)]\n",
    "    col = []\n",
    "\n",
    "    for ind in indices:\n",
    "        for i in ind:\n",
    "            if i not in col:\n",
    "                testdata[i] = np.zeros(3)\n",
    "                col.append(i)\n",
    "\n",
    "    return Test(testdata, indices, f'{N} datapoints, {n} indices, {cores} cores')\n",
    "\n",
    "def test_1(data):\n",
    "    res = []\n",
    "    for v in data:\n",
    "        if not all(v==0):\n",
    "            res.append(v)\n",
    "    return res\n",
    "\n",
    "def test_2(data, idxs):\n",
    "    res = []\n",
    "    idx = []\n",
    "    for ids in idxs:\n",
    "        for i in ids:\n",
    "            if i not in idx:\n",
    "                idx.append(i)\n",
    "    for i in idx:\n",
    "        res.append(data[i])\n",
    "    return res"
   ],
   "cell_type": "code",
   "outputs": [],
   "metadata": {},
   "execution_count": 1
  },
  {
   "source": [
    "from timeit import timeit\n",
    "for t in tests:\n",
    "    print(t.name)\n",
    "    res = timeit('test_1(t.data)', number=100, setup='from __main__ import test_1, test_2, t')\n",
    "    print('test_1: ', res)\n",
    "    res = timeit('test_2(t.data, t.indices)', number=100, setup='from __main__ import test_1, test_2, t')\n",
    "    print('test_2: ', res)"
   ],
   "cell_type": "code",
   "outputs": [
    {
     "output_type": "stream",
     "name": "stdout",
     "text": "2000 datapoints, 30 indices, 4 cores\ntest_1:  0.36676962799992907\ntest_2:  0.024592279000898998\n10000 datapoints, 30 indices, 4 cores\ntest_1:  1.730013807999967\ntest_2:  0.02838007800073683\n2000 datapoints, 1000 indices, 4 cores\ntest_1:  0.48358983300022373\ntest_2:  8.9249538389995\n10000 datapoints, 300 indices, 8 cores\ntest_1:  2.053152548000071\ntest_2:  7.417484378000154\n"
    }
   ],
   "metadata": {},
   "execution_count": 12
  },
  {
   "source": [
    "tests = (setup(),\n",
    "    setup(N=10000),\n",
    "    setup(N=2000, n=1000),\n",
    "    setup(N=10000, n=300, cores=8))"
   ],
   "cell_type": "code",
   "outputs": [],
   "metadata": {},
   "execution_count": 11
  }
 ]
}