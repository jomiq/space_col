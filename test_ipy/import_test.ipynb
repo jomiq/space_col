{
 "nbformat": 4,
 "nbformat_minor": 2,
 "metadata": {
  "language_info": {
   "name": "python",
   "codemirror_mode": {
    "name": "ipython",
    "version": 3
   },
   "version": "3.8.1-final"
  },
  "orig_nbformat": 2,
  "file_extension": ".py",
  "mimetype": "text/x-python",
  "name": "python",
  "npconvert_exporter": "python",
  "pygments_lexer": "ipython3",
  "version": 3,
  "kernelspec": {
   "name": "python38164bitblendercondac8278cb34d204d9c9bab6e3c7d4f037c",
   "display_name": "Python 3.8.1 64-bit ('blender': conda)"
  }
 },
 "cells": [
  {
   "cell_type": "code",
   "execution_count": 11,
   "metadata": {},
   "outputs": [],
   "source": [
    "import setpath\n",
    "from SCA import SpaceColony\n"
   ]
  }
 ]
}